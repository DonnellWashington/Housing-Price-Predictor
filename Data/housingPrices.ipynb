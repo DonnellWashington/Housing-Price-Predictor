{
 "cells": [
  {
   "cell_type": "code",
   "execution_count": 49,
   "id": "5541e0e8-0a71-458e-ab83-608c74e4e7f3",
   "metadata": {},
   "outputs": [
    {
     "name": "stdout",
     "output_type": "stream",
     "text": [
      "Requirement already satisfied: pyspark in c:\\users\\washi\\anaconda3\\lib\\site-packages (3.5.5)\n",
      "Requirement already satisfied: py4j==0.10.9.7 in c:\\users\\washi\\anaconda3\\lib\\site-packages (from pyspark) (0.10.9.7)\n"
     ]
    }
   ],
   "source": [
    "!pip install pyspark"
   ]
  },
  {
   "cell_type": "code",
   "execution_count": 1,
   "id": "ab930cc1-d9a4-4340-bd3a-35f943bb0647",
   "metadata": {},
   "outputs": [],
   "source": [
    "# Data manipulation and Graphing\n",
    "import numpy as np # Linear algebra\n",
    "import pandas as pd #data processing, CSV file I/O\n",
    "import os # Interact with OS file system\n",
    "import seaborn as sns # Making graphs and visualising data\n",
    "\n",
    "# Basic Setup\n",
    "from pyspark import SparkConf, SparkContext #\n",
    "from pyspark.sql import SparkSession, SQLContext # Working with DataFrames\n",
    "\n",
    "# Spark Tools\n",
    "from pyspark.sql.types import * # Schema tools for DataFrames\n",
    "import pyspark.sql.functions as F # \n",
    "from pyspark.sql.functions import udf, col\n",
    "\n",
    "from pyspark.ml.regression import LinearRegression # Linear regression model\n",
    "from pyspark.mllib.evaluation import RegressionMetrics # Model evaluation metrics\n",
    "\n",
    "from pyspark.ml.tuning import ParamGridBuilder, CrossValidator, CrossValidatorModel # Hyperparameter tuning\n",
    "from pyspark.ml.feature import VectorAssembler, StandardScaler # Prepare features for machine learning\n",
    "from pyspark.ml.evaluation import RegressionEvaluator # Evaluation"
   ]
  },
  {
   "cell_type": "code",
   "execution_count": 3,
   "id": "42820ce3-aee2-45ef-934e-e27b49d79134",
   "metadata": {},
   "outputs": [
    {
     "name": "stdout",
     "output_type": "stream",
     "text": [
      "C:\\Users\\washi\\OneDrive\\Desktop\\MIS PROYECTOS\\archivos\\housing.csv\n"
     ]
    }
   ],
   "source": [
    "import os\n",
    "# Find data set in file system\n",
    "for dirname, _, filenames in os.walk(r'C:\\Users\\washi\\OneDrive\\Desktop\\MIS PROYECTOS\\archivos'):\n",
    "    for filename in filenames:\n",
    "        print(os.path.join(dirname, filename))"
   ]
  },
  {
   "cell_type": "code",
   "execution_count": 5,
   "id": "cdd2e8ad-ea39-4ef0-9b6b-8c00675e8e42",
   "metadata": {},
   "outputs": [],
   "source": [
    "from pyspark.sql import SparkSession"
   ]
  },
  {
   "cell_type": "code",
   "execution_count": 7,
   "id": "e1eb10ce-059f-4f4d-8296-69d570099c61",
   "metadata": {},
   "outputs": [],
   "source": [
    "# Create a spark session\n",
    "spark = SparkSession.builder.appName('Dataframe').getOrCreate()"
   ]
  },
  {
   "cell_type": "code",
   "execution_count": 9,
   "id": "92f95ee2-1f2c-44d5-8ec7-cc25909f2dc9",
   "metadata": {},
   "outputs": [],
   "source": [
    "# Read over dataset\n",
    "df_housing = spark.read.option('header', 'true').csv(os.path.join(dirname, 'housing.csv'), inferSchema = True)"
   ]
  },
  {
   "cell_type": "code",
   "execution_count": 11,
   "id": "66aa45e4-98ab-4cfd-85cc-7807d21bd9b6",
   "metadata": {},
   "outputs": [
    {
     "data": {
      "text/plain": [
       "[Row(longitude=-122.23, latitude=37.88, housing_median_age=41.0, total_rooms=880.0, total_bedrooms=129.0, population=322.0, households=126.0, median_income=8.3252, median_house_value=452600.0, ocean_proximity='NEAR BAY'),\n",
       " Row(longitude=-122.22, latitude=37.86, housing_median_age=21.0, total_rooms=7099.0, total_bedrooms=1106.0, population=2401.0, households=1138.0, median_income=8.3014, median_house_value=358500.0, ocean_proximity='NEAR BAY'),\n",
       " Row(longitude=-122.24, latitude=37.85, housing_median_age=52.0, total_rooms=1467.0, total_bedrooms=190.0, population=496.0, households=177.0, median_income=7.2574, median_house_value=352100.0, ocean_proximity='NEAR BAY')]"
      ]
     },
     "execution_count": 11,
     "metadata": {},
     "output_type": "execute_result"
    }
   ],
   "source": [
    "# Show the first 3 rows\n",
    "df_housing.head(3)"
   ]
  },
  {
   "cell_type": "code",
   "execution_count": 13,
   "id": "ef78f660-3501-4115-a565-0ffd76e11dd1",
   "metadata": {},
   "outputs": [
    {
     "name": "stdout",
     "output_type": "stream",
     "text": [
      "root\n",
      " |-- longitude: double (nullable = true)\n",
      " |-- latitude: double (nullable = true)\n",
      " |-- housing_median_age: double (nullable = true)\n",
      " |-- total_rooms: double (nullable = true)\n",
      " |-- total_bedrooms: double (nullable = true)\n",
      " |-- population: double (nullable = true)\n",
      " |-- households: double (nullable = true)\n",
      " |-- median_income: double (nullable = true)\n",
      " |-- median_house_value: double (nullable = true)\n",
      " |-- ocean_proximity: string (nullable = true)\n",
      "\n"
     ]
    }
   ],
   "source": [
    "# Checking schema\n",
    "df_housing.printSchema()"
   ]
  },
  {
   "cell_type": "code",
   "execution_count": 15,
   "id": "9c1d2b9f-3612-41b8-bcdc-bb874f67d075",
   "metadata": {},
   "outputs": [
    {
     "data": {
      "text/plain": [
       "['longitude',\n",
       " 'latitude',\n",
       " 'housing_median_age',\n",
       " 'total_rooms',\n",
       " 'total_bedrooms',\n",
       " 'population',\n",
       " 'households',\n",
       " 'median_income',\n",
       " 'median_house_value',\n",
       " 'ocean_proximity']"
      ]
     },
     "execution_count": 15,
     "metadata": {},
     "output_type": "execute_result"
    }
   ],
   "source": [
    "# Print column names\n",
    "df_housing.columns"
   ]
  },
  {
   "cell_type": "code",
   "execution_count": 33,
   "id": "a71c5fbf-79e6-4988-a88d-6df2f2288519",
   "metadata": {},
   "outputs": [
    {
     "name": "stdout",
     "output_type": "stream",
     "text": [
      "+-------+-------------------+-----------------+------------------+------------------+------------------+\n",
      "|summary|          longitude|         latitude|housing_median_age|       total_rooms|    total_bedrooms|\n",
      "+-------+-------------------+-----------------+------------------+------------------+------------------+\n",
      "|  count|              20640|            20640|             20640|             20640|             20433|\n",
      "|   mean|-119.56970445736148| 35.6318614341087|28.639486434108527|2635.7630813953488| 537.8705525375618|\n",
      "| stddev|  2.003531723502584|2.135952397457101| 12.58555761211163|2181.6152515827944|421.38507007403115|\n",
      "|    min|            -124.35|            32.54|               1.0|               2.0|               1.0|\n",
      "|    max|            -114.31|            41.95|              52.0|           39320.0|            6445.0|\n",
      "+-------+-------------------+-----------------+------------------+------------------+------------------+\n",
      "\n"
     ]
    }
   ],
   "source": [
    "# Checking data entries for each column\n",
    "df_housing.select(['longitude', 'latitude', 'housing_median_age', 'total_rooms', 'total_bedrooms']).describe().show()"
   ]
  },
  {
   "cell_type": "code",
   "execution_count": 37,
   "id": "006cee63-225b-4178-8819-f129fb72adcf",
   "metadata": {},
   "outputs": [
    {
     "name": "stdout",
     "output_type": "stream",
     "text": [
      "+-------+------------------+-----------------+------------------+------------------+---------------+\n",
      "|summary|        population|       households|     median_income|median_house_value|ocean_proximity|\n",
      "+-------+------------------+-----------------+------------------+------------------+---------------+\n",
      "|  count|             20640|            20640|             20640|             20640|          20640|\n",
      "|   mean|1425.4767441860465|499.5396802325581|3.8706710029070246|206855.81690891474|           NULL|\n",
      "| stddev|  1132.46212176534|382.3297528316098| 1.899821717945263|115395.61587441359|           NULL|\n",
      "|    min|               3.0|              1.0|            0.4999|           14999.0|      <1H OCEAN|\n",
      "|    max|           35682.0|           6082.0|           15.0001|          500001.0|     NEAR OCEAN|\n",
      "+-------+------------------+-----------------+------------------+------------------+---------------+\n",
      "\n"
     ]
    }
   ],
   "source": [
    "df_housing.select(['population', 'households', 'median_income', 'median_house_value', 'ocean_proximity']).describe().show()"
   ]
  },
  {
   "cell_type": "code",
   "execution_count": 63,
   "id": "05470910-626f-4598-ad53-856fc391b0ba",
   "metadata": {},
   "outputs": [
    {
     "data": {
      "text/html": [
       "<div>\n",
       "<style scoped>\n",
       "    .dataframe tbody tr th:only-of-type {\n",
       "        vertical-align: middle;\n",
       "    }\n",
       "\n",
       "    .dataframe tbody tr th {\n",
       "        vertical-align: top;\n",
       "    }\n",
       "\n",
       "    .dataframe thead th {\n",
       "        text-align: right;\n",
       "    }\n",
       "</style>\n",
       "<table border=\"1\" class=\"dataframe\">\n",
       "  <thead>\n",
       "    <tr style=\"text-align: right;\">\n",
       "      <th></th>\n",
       "      <th>Column Name</th>\n",
       "      <th>Data type</th>\n",
       "    </tr>\n",
       "  </thead>\n",
       "  <tbody>\n",
       "    <tr>\n",
       "      <th>0</th>\n",
       "      <td>longitude</td>\n",
       "      <td>double</td>\n",
       "    </tr>\n",
       "    <tr>\n",
       "      <th>1</th>\n",
       "      <td>latitude</td>\n",
       "      <td>double</td>\n",
       "    </tr>\n",
       "    <tr>\n",
       "      <th>2</th>\n",
       "      <td>housing_median_age</td>\n",
       "      <td>double</td>\n",
       "    </tr>\n",
       "    <tr>\n",
       "      <th>3</th>\n",
       "      <td>total_rooms</td>\n",
       "      <td>double</td>\n",
       "    </tr>\n",
       "    <tr>\n",
       "      <th>4</th>\n",
       "      <td>total_bedrooms</td>\n",
       "      <td>double</td>\n",
       "    </tr>\n",
       "    <tr>\n",
       "      <th>5</th>\n",
       "      <td>population</td>\n",
       "      <td>double</td>\n",
       "    </tr>\n",
       "    <tr>\n",
       "      <th>6</th>\n",
       "      <td>households</td>\n",
       "      <td>double</td>\n",
       "    </tr>\n",
       "    <tr>\n",
       "      <th>7</th>\n",
       "      <td>median_income</td>\n",
       "      <td>double</td>\n",
       "    </tr>\n",
       "    <tr>\n",
       "      <th>8</th>\n",
       "      <td>price</td>\n",
       "      <td>double</td>\n",
       "    </tr>\n",
       "    <tr>\n",
       "      <th>9</th>\n",
       "      <td>ocean_proximity</td>\n",
       "      <td>string</td>\n",
       "    </tr>\n",
       "  </tbody>\n",
       "</table>\n",
       "</div>"
      ],
      "text/plain": [
       "          Column Name Data type\n",
       "0           longitude    double\n",
       "1            latitude    double\n",
       "2  housing_median_age    double\n",
       "3         total_rooms    double\n",
       "4      total_bedrooms    double\n",
       "5          population    double\n",
       "6          households    double\n",
       "7       median_income    double\n",
       "8               price    double\n",
       "9     ocean_proximity    string"
      ]
     },
     "execution_count": 63,
     "metadata": {},
     "output_type": "execute_result"
    }
   ],
   "source": [
    "# Columns overview\n",
    "pd.DataFrame(df_housing.dtypes, columns = ['Column Name', 'Data type'])"
   ]
  },
  {
   "cell_type": "code",
   "execution_count": 47,
   "id": "fa46d6b8-d592-4527-a4af-304613293651",
   "metadata": {},
   "outputs": [
    {
     "name": "stdout",
     "output_type": "stream",
     "text": [
      "+---------+\n",
      "|longitude|\n",
      "+---------+\n",
      "|  -122.23|\n",
      "|  -122.22|\n",
      "|  -122.24|\n",
      "|  -122.25|\n",
      "|  -122.25|\n",
      "|  -122.25|\n",
      "|  -122.25|\n",
      "|  -122.25|\n",
      "|  -122.26|\n",
      "|  -122.25|\n",
      "|  -122.26|\n",
      "|  -122.26|\n",
      "|  -122.26|\n",
      "|  -122.26|\n",
      "|  -122.26|\n",
      "|  -122.26|\n",
      "|  -122.27|\n",
      "|  -122.27|\n",
      "|  -122.26|\n",
      "|  -122.27|\n",
      "+---------+\n",
      "only showing top 20 rows\n",
      "\n"
     ]
    }
   ],
   "source": [
    "df_housing.select(['longitude']).show()"
   ]
  },
  {
   "cell_type": "code",
   "execution_count": 57,
   "id": "3762860a-9606-438c-9f38-00103819c98a",
   "metadata": {},
   "outputs": [
    {
     "name": "stdout",
     "output_type": "stream",
     "text": [
      "longitude 0\n",
      "latitude 0\n",
      "housing_median_age 0\n",
      "total_rooms 0\n",
      "total_bedrooms 0\n",
      "population 0\n",
      "households 0\n",
      "median_income 0\n",
      "median_house_value 0\n",
      "ocean_proximity 0\n"
     ]
    }
   ],
   "source": [
    "# Check for missing values\n",
    "for column in df_housing.columns:\n",
    "    print(column, df_housing.filter(col(column).cast(\"float\").isin([None, np.nan])).count())"
   ]
  },
  {
   "cell_type": "code",
   "execution_count": 59,
   "id": "751677cb-7b54-4ead-99e1-0e7a9e43be36",
   "metadata": {},
   "outputs": [],
   "source": [
    "df_housing = df_housing.withColumnRenamed('median_house_value', 'price')"
   ]
  },
  {
   "cell_type": "code",
   "execution_count": 61,
   "id": "55559032-d26f-471d-9df6-00f29523a969",
   "metadata": {},
   "outputs": [
    {
     "data": {
      "text/plain": [
       "DataFrame[longitude: double, latitude: double, housing_median_age: double, total_rooms: double, total_bedrooms: double, population: double, households: double, median_income: double, price: double, ocean_proximity: string]"
      ]
     },
     "execution_count": 61,
     "metadata": {},
     "output_type": "execute_result"
    }
   ],
   "source": [
    "# Data imputation\n",
    "df_housing.na.drop()"
   ]
  },
  {
   "cell_type": "code",
   "execution_count": 65,
   "id": "97151d86-212c-47b9-b1c4-d07b276bfa21",
   "metadata": {},
   "outputs": [
    {
     "data": {
      "text/plain": [
       "pyspark.sql.column.Column"
      ]
     },
     "execution_count": 65,
     "metadata": {},
     "output_type": "execute_result"
    }
   ],
   "source": [
    "type(df_housing['price'])"
   ]
  },
  {
   "cell_type": "code",
   "execution_count": 67,
   "id": "18f72b2f-5b5d-4342-a6cf-c50d35349be3",
   "metadata": {},
   "outputs": [
    {
     "name": "stderr",
     "output_type": "stream",
     "text": [
      "C:\\Users\\washi\\AppData\\Local\\Temp\\ipykernel_32256\\1177894381.py:2: UserWarning: \n",
      "\n",
      "`distplot` is a deprecated function and will be removed in seaborn v0.14.0.\n",
      "\n",
      "Please adapt your code to use either `displot` (a figure-level function with\n",
      "similar flexibility) or `histplot` (an axes-level function for histograms).\n",
      "\n",
      "For a guide to updating your code to use the new functions, please see\n",
      "https://gist.github.com/mwaskom/de44147ed2974457ad6372750bbe5751\n",
      "\n",
      "  sns.distplot(df_housing.select('price').toPandas(), color=\"skyblue\")\n"
     ]
    },
    {
     "name": "stdout",
     "output_type": "stream",
     "text": [
      "+------------------+------------------+\n",
      "|   skewness(price)|   kurtosis(price)|\n",
      "+------------------+------------------+\n",
      "|0.9776922140978437|0.3275001388119674|\n",
      "+------------------+------------------+\n",
      "\n"
     ]
    },
    {
     "data": {
      "image/png": "[encoded data removed]",
      "text/plain": [
       "<Figure size 640x480 with 1 Axes>"
      ]
     },
     "metadata": {},
     "output_type": "display_data"
    }
   ],
   "source": [
    "# Check if prices are distributed normally\n",
    "sns.distplot(df_housing.select('price').toPandas(), color=\"skyblue\")\n",
    "df_housing.select(F.skewness('price'), F.kurtosis('price')).show()"
   ]
  },
  {
   "cell_type": "code",
   "execution_count": null,
   "id": "4c31922e-bdce-4c5f-b469-7f7ec267f630",
   "metadata": {},
   "outputs": [],
   "source": []
  }
 ],
 "metadata": {
  "kernelspec": {
   "display_name": "Python [conda env:base] *",
   "language": "python",
   "name": "conda-base-py"
  },
  "language_info": {
   "codemirror_mode": {
    "name": "ipython",
    "version": 3
   },
   "file_extension": ".py",
   "mimetype": "text/x-python",
   "name": "python",
   "nbconvert_exporter": "python",
   "pygments_lexer": "ipython3",
   "version": "3.12.7"
  }
 },
 "nbformat": 4,
 "nbformat_minor": 5
}
