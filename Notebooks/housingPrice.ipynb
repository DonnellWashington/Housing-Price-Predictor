{
 "cells": [
  {
   "cell_type": "code",
   "execution_count": 1,
   "id": "5541e0e8-0a71-458e-ab83-608c74e4e7f3",
   "metadata": {},
   "outputs": [
    {
     "name": "stdout",
     "output_type": "stream",
     "text": [
      "Requirement already satisfied: pyspark in c:\\users\\washi\\anaconda3\\lib\\site-packages (3.5.5)\n",
      "Requirement already satisfied: py4j==0.10.9.7 in c:\\users\\washi\\anaconda3\\lib\\site-packages (from pyspark) (0.10.9.7)\n"
     ]
    }
   ],
   "source": [
    "!pip install pyspark"
   ]
  },
  {
   "cell_type": "code",
   "execution_count": 11,
   "id": "ab930cc1-d9a4-4340-bd3a-35f943bb0647",
   "metadata": {},
   "outputs": [],
   "source": [
    "# Data manipulation and Graphing\n",
    "import numpy as np # Linear algebra\n",
    "import pandas as pd #data processing, CSV file I/O\n",
    "import os # Interact with OS file system\n",
    "import seaborn as sns # Making graphs and visualising data\n",
    "\n",
    "# Basic Setup\n",
    "from pyspark import SparkConf, SparkContext #\n",
    "from pyspark.sql import SparkSession, SQLContext # Working with DataFrames\n",
    "\n",
    "# Spark Tools\n",
    "from pyspark.sql.types import * # Schema tools for DataFrames\n",
    "import pyspark.sql.functions as F # \n",
    "from pyspark.sql.functions import udf, col\n",
    "\n",
    "from pyspark.ml.regression import LinearRegression # Linear regression model\n",
    "from pyspark.mllib.evaluation import RegressionMetrics # Model evaluation metrics\n",
    "\n",
    "from pyspark.ml.tuning import ParamGridBuilder, CrossValidator, CrossValidatorModel # Hyperparameter tuning\n",
    "from pyspark.ml.feature import VectorAssembler, StandardScaler # Prepare features for machine learning\n",
    "from pyspark.ml.evaluation import RegressionEvaluator # Evaluation"
   ]
  },
  {
   "cell_type": "code",
   "execution_count": null,
   "id": "42820ce3-aee2-45ef-934e-e27b49d79134",
   "metadata": {},
   "outputs": [],
   "source": []
  }
 ],
 "metadata": {
  "kernelspec": {
   "display_name": "Python [conda env:base] *",
   "language": "python",
   "name": "conda-base-py"
  },
  "language_info": {
   "codemirror_mode": {
    "name": "ipython",
    "version": 3
   },
   "file_extension": ".py",
   "mimetype": "text/x-python",
   "name": "python",
   "nbconvert_exporter": "python",
   "pygments_lexer": "ipython3",
   "version": "3.12.7"
  }
 },
 "nbformat": 4,
 "nbformat_minor": 5
}
