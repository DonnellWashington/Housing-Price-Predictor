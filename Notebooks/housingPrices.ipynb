{
 "cells": [
  {
   "cell_type": "code",
   "execution_count": 5,
   "id": "5541e0e8-0a71-458e-ab83-608c74e4e7f3",
   "metadata": {},
   "outputs": [
    {
     "name": "stdout",
     "output_type": "stream",
     "text": [
      "Requirement already satisfied: pyspark in c:\\users\\washi\\anaconda3\\lib\\site-packages (3.5.5)\n",
      "Requirement already satisfied: py4j==0.10.9.7 in c:\\users\\washi\\anaconda3\\lib\\site-packages (from pyspark) (0.10.9.7)\n"
     ]
    }
   ],
   "source": [
    "!pip install pyspark"
   ]
  },
  {
   "cell_type": "code",
   "execution_count": 7,
   "id": "ab930cc1-d9a4-4340-bd3a-35f943bb0647",
   "metadata": {},
   "outputs": [],
   "source": [
    "# Data manipulation and Graphing\n",
    "import numpy as np # Linear algebra\n",
    "import pandas as pd #data processing, CSV file I/O\n",
    "import os # Interact with OS file system\n",
    "import seaborn as sns # Making graphs and visualising data\n",
    "\n",
    "# Basic Setup\n",
    "from pyspark import SparkConf, SparkContext #\n",
    "from pyspark.sql import SparkSession, SQLContext # Working with DataFrames\n",
    "\n",
    "# Spark Tools\n",
    "from pyspark.sql.types import * # Schema tools for DataFrames\n",
    "import pyspark.sql.functions as F # \n",
    "from pyspark.sql.functions import udf, col\n",
    "\n",
    "from pyspark.ml.regression import LinearRegression # Linear regression model\n",
    "from pyspark.mllib.evaluation import RegressionMetrics # Model evaluation metrics\n",
    "\n",
    "from pyspark.ml.tuning import ParamGridBuilder, CrossValidator, CrossValidatorModel # Hyperparameter tuning\n",
    "from pyspark.ml.feature import VectorAssembler, StandardScaler # Prepare features for machine learning\n",
    "from pyspark.ml.evaluation import RegressionEvaluator # Evaluation"
   ]
  },
  {
   "cell_type": "code",
   "execution_count": 9,
   "id": "42820ce3-aee2-45ef-934e-e27b49d79134",
   "metadata": {},
   "outputs": [
    {
     "name": "stdout",
     "output_type": "stream",
     "text": [
      "C:\\Users\\washi\\Downloads\\archive\\AmesHousing.csv\n"
     ]
    }
   ],
   "source": [
    "import os\n",
    "# Find data set in file system\n",
    "for dirname, _, filenames in os.walk(r'C:\\Users\\washi\\Downloads\\archive'):\n",
    "    for filename in filenames:\n",
    "        print(os.path.join(dirname, filename))"
   ]
  },
  {
   "cell_type": "code",
   "execution_count": 11,
   "id": "cdd2e8ad-ea39-4ef0-9b6b-8c00675e8e42",
   "metadata": {},
   "outputs": [],
   "source": [
    "from pyspark.sql import SparkSession"
   ]
  },
  {
   "cell_type": "code",
   "execution_count": 13,
   "id": "e1eb10ce-059f-4f4d-8296-69d570099c61",
   "metadata": {},
   "outputs": [],
   "source": [
    "# Create a spark session\n",
    "spark = SparkSession.builder.appName('Dataframe').getOrCreate()"
   ]
  },
  {
   "cell_type": "code",
   "execution_count": 14,
   "id": "92f95ee2-1f2c-44d5-8ec7-cc25909f2dc9",
   "metadata": {},
   "outputs": [],
   "source": [
    "# Read over dataset\n",
    "df_housing = spark.read.option('header', 'true').csv(os.path.join(dirname, 'AmesHousing.csv'), inferSchema = True)"
   ]
  },
  {
   "cell_type": "code",
   "execution_count": 19,
   "id": "66aa45e4-98ab-4cfd-85cc-7807d21bd9b6",
   "metadata": {},
   "outputs": [
    {
     "data": {
      "text/plain": [
       "[Row(Order=1, PID=526301100, MS SubClass=20, MS Zoning='RL', Lot Frontage=141, Lot Area=31770, Street='Pave', Alley='NA', Lot Shape='IR1', Land Contour='Lvl', Utilities='AllPub', Lot Config='Corner', Land Slope='Gtl', Neighborhood='NAmes', Condition 1='Norm', Condition 2='Norm', Bldg Type='1Fam', House Style='1Story', Overall Qual=6, Overall Cond=5, Year Built=1960, Year Remod/Add=1960, Roof Style='Hip', Roof Matl='CompShg', Exterior 1st='BrkFace', Exterior 2nd='Plywood', Mas Vnr Type='Stone', Mas Vnr Area=112, Exter Qual='TA', Exter Cond='TA', Foundation='CBlock', Bsmt Qual='TA', Bsmt Cond='Gd', Bsmt Exposure='Gd', BsmtFin Type 1='BLQ', BsmtFin SF 1=639, BsmtFin Type 2='Unf', BsmtFin SF 2=0, Bsmt Unf SF=441, Total Bsmt SF=1080, Heating='GasA', Heating QC='Fa', Central Air='Y', Electrical='SBrkr', 1st Flr SF=1656, 2nd Flr SF=0, Low Qual Fin SF=0, Gr Liv Area=1656, Bsmt Full Bath=1, Bsmt Half Bath=0, Full Bath=1, Half Bath=0, Bedroom AbvGr=3, Kitchen AbvGr=1, Kitchen Qual='TA', TotRms AbvGrd=7, Functional='Typ', Fireplaces=2, Fireplace Qu='Gd', Garage Type='Attchd', Garage Yr Blt=1960, Garage Finish='Fin', Garage Cars=2, Garage Area=528, Garage Qual='TA', Garage Cond='TA', Paved Drive='P', Wood Deck SF=210, Open Porch SF=62, Enclosed Porch=0, 3Ssn Porch=0, Screen Porch=0, Pool Area=0, Pool QC='NA', Fence='NA', Misc Feature='NA', Misc Val=0, Mo Sold=5, Yr Sold=2010, Sale Type='WD ', Sale Condition='Normal', SalePrice=215000),\n",
       " Row(Order=2, PID=526350040, MS SubClass=20, MS Zoning='RH', Lot Frontage=80, Lot Area=11622, Street='Pave', Alley='NA', Lot Shape='Reg', Land Contour='Lvl', Utilities='AllPub', Lot Config='Inside', Land Slope='Gtl', Neighborhood='NAmes', Condition 1='Feedr', Condition 2='Norm', Bldg Type='1Fam', House Style='1Story', Overall Qual=5, Overall Cond=6, Year Built=1961, Year Remod/Add=1961, Roof Style='Gable', Roof Matl='CompShg', Exterior 1st='VinylSd', Exterior 2nd='VinylSd', Mas Vnr Type='None', Mas Vnr Area=0, Exter Qual='TA', Exter Cond='TA', Foundation='CBlock', Bsmt Qual='TA', Bsmt Cond='TA', Bsmt Exposure='No', BsmtFin Type 1='Rec', BsmtFin SF 1=468, BsmtFin Type 2='LwQ', BsmtFin SF 2=144, Bsmt Unf SF=270, Total Bsmt SF=882, Heating='GasA', Heating QC='TA', Central Air='Y', Electrical='SBrkr', 1st Flr SF=896, 2nd Flr SF=0, Low Qual Fin SF=0, Gr Liv Area=896, Bsmt Full Bath=0, Bsmt Half Bath=0, Full Bath=1, Half Bath=0, Bedroom AbvGr=2, Kitchen AbvGr=1, Kitchen Qual='TA', TotRms AbvGrd=5, Functional='Typ', Fireplaces=0, Fireplace Qu='NA', Garage Type='Attchd', Garage Yr Blt=1961, Garage Finish='Unf', Garage Cars=1, Garage Area=730, Garage Qual='TA', Garage Cond='TA', Paved Drive='Y', Wood Deck SF=140, Open Porch SF=0, Enclosed Porch=0, 3Ssn Porch=0, Screen Porch=120, Pool Area=0, Pool QC='NA', Fence='MnPrv', Misc Feature='NA', Misc Val=0, Mo Sold=6, Yr Sold=2010, Sale Type='WD ', Sale Condition='Normal', SalePrice=105000),\n",
       " Row(Order=3, PID=526351010, MS SubClass=20, MS Zoning='RL', Lot Frontage=81, Lot Area=14267, Street='Pave', Alley='NA', Lot Shape='IR1', Land Contour='Lvl', Utilities='AllPub', Lot Config='Corner', Land Slope='Gtl', Neighborhood='NAmes', Condition 1='Norm', Condition 2='Norm', Bldg Type='1Fam', House Style='1Story', Overall Qual=6, Overall Cond=6, Year Built=1958, Year Remod/Add=1958, Roof Style='Hip', Roof Matl='CompShg', Exterior 1st='Wd Sdng', Exterior 2nd='Wd Sdng', Mas Vnr Type='BrkFace', Mas Vnr Area=108, Exter Qual='TA', Exter Cond='TA', Foundation='CBlock', Bsmt Qual='TA', Bsmt Cond='TA', Bsmt Exposure='No', BsmtFin Type 1='ALQ', BsmtFin SF 1=923, BsmtFin Type 2='Unf', BsmtFin SF 2=0, Bsmt Unf SF=406, Total Bsmt SF=1329, Heating='GasA', Heating QC='TA', Central Air='Y', Electrical='SBrkr', 1st Flr SF=1329, 2nd Flr SF=0, Low Qual Fin SF=0, Gr Liv Area=1329, Bsmt Full Bath=0, Bsmt Half Bath=0, Full Bath=1, Half Bath=1, Bedroom AbvGr=3, Kitchen AbvGr=1, Kitchen Qual='Gd', TotRms AbvGrd=6, Functional='Typ', Fireplaces=0, Fireplace Qu='NA', Garage Type='Attchd', Garage Yr Blt=1958, Garage Finish='Unf', Garage Cars=1, Garage Area=312, Garage Qual='TA', Garage Cond='TA', Paved Drive='Y', Wood Deck SF=393, Open Porch SF=36, Enclosed Porch=0, 3Ssn Porch=0, Screen Porch=0, Pool Area=0, Pool QC='NA', Fence='NA', Misc Feature='Gar2', Misc Val=12500, Mo Sold=6, Yr Sold=2010, Sale Type='WD ', Sale Condition='Normal', SalePrice=172000)]"
      ]
     },
     "execution_count": 19,
     "metadata": {},
     "output_type": "execute_result"
    }
   ],
   "source": [
    "# Show the first 3 rows\n",
    "df_housing.head(3)"
   ]
  },
  {
   "cell_type": "code",
   "execution_count": 21,
   "id": "ef78f660-3501-4115-a565-0ffd76e11dd1",
   "metadata": {},
   "outputs": [
    {
     "name": "stdout",
     "output_type": "stream",
     "text": [
      "root\n",
      " |-- Order: integer (nullable = true)\n",
      " |-- PID: integer (nullable = true)\n",
      " |-- MS SubClass: integer (nullable = true)\n",
      " |-- MS Zoning: string (nullable = true)\n",
      " |-- Lot Frontage: integer (nullable = true)\n",
      " |-- Lot Area: integer (nullable = true)\n",
      " |-- Street: string (nullable = true)\n",
      " |-- Alley: string (nullable = true)\n",
      " |-- Lot Shape: string (nullable = true)\n",
      " |-- Land Contour: string (nullable = true)\n",
      " |-- Utilities: string (nullable = true)\n",
      " |-- Lot Config: string (nullable = true)\n",
      " |-- Land Slope: string (nullable = true)\n",
      " |-- Neighborhood: string (nullable = true)\n",
      " |-- Condition 1: string (nullable = true)\n",
      " |-- Condition 2: string (nullable = true)\n",
      " |-- Bldg Type: string (nullable = true)\n",
      " |-- House Style: string (nullable = true)\n",
      " |-- Overall Qual: integer (nullable = true)\n",
      " |-- Overall Cond: integer (nullable = true)\n",
      " |-- Year Built: integer (nullable = true)\n",
      " |-- Year Remod/Add: integer (nullable = true)\n",
      " |-- Roof Style: string (nullable = true)\n",
      " |-- Roof Matl: string (nullable = true)\n",
      " |-- Exterior 1st: string (nullable = true)\n",
      " |-- Exterior 2nd: string (nullable = true)\n",
      " |-- Mas Vnr Type: string (nullable = true)\n",
      " |-- Mas Vnr Area: integer (nullable = true)\n",
      " |-- Exter Qual: string (nullable = true)\n",
      " |-- Exter Cond: string (nullable = true)\n",
      " |-- Foundation: string (nullable = true)\n",
      " |-- Bsmt Qual: string (nullable = true)\n",
      " |-- Bsmt Cond: string (nullable = true)\n",
      " |-- Bsmt Exposure: string (nullable = true)\n",
      " |-- BsmtFin Type 1: string (nullable = true)\n",
      " |-- BsmtFin SF 1: integer (nullable = true)\n",
      " |-- BsmtFin Type 2: string (nullable = true)\n",
      " |-- BsmtFin SF 2: integer (nullable = true)\n",
      " |-- Bsmt Unf SF: integer (nullable = true)\n",
      " |-- Total Bsmt SF: integer (nullable = true)\n",
      " |-- Heating: string (nullable = true)\n",
      " |-- Heating QC: string (nullable = true)\n",
      " |-- Central Air: string (nullable = true)\n",
      " |-- Electrical: string (nullable = true)\n",
      " |-- 1st Flr SF: integer (nullable = true)\n",
      " |-- 2nd Flr SF: integer (nullable = true)\n",
      " |-- Low Qual Fin SF: integer (nullable = true)\n",
      " |-- Gr Liv Area: integer (nullable = true)\n",
      " |-- Bsmt Full Bath: integer (nullable = true)\n",
      " |-- Bsmt Half Bath: integer (nullable = true)\n",
      " |-- Full Bath: integer (nullable = true)\n",
      " |-- Half Bath: integer (nullable = true)\n",
      " |-- Bedroom AbvGr: integer (nullable = true)\n",
      " |-- Kitchen AbvGr: integer (nullable = true)\n",
      " |-- Kitchen Qual: string (nullable = true)\n",
      " |-- TotRms AbvGrd: integer (nullable = true)\n",
      " |-- Functional: string (nullable = true)\n",
      " |-- Fireplaces: integer (nullable = true)\n",
      " |-- Fireplace Qu: string (nullable = true)\n",
      " |-- Garage Type: string (nullable = true)\n",
      " |-- Garage Yr Blt: integer (nullable = true)\n",
      " |-- Garage Finish: string (nullable = true)\n",
      " |-- Garage Cars: integer (nullable = true)\n",
      " |-- Garage Area: integer (nullable = true)\n",
      " |-- Garage Qual: string (nullable = true)\n",
      " |-- Garage Cond: string (nullable = true)\n",
      " |-- Paved Drive: string (nullable = true)\n",
      " |-- Wood Deck SF: integer (nullable = true)\n",
      " |-- Open Porch SF: integer (nullable = true)\n",
      " |-- Enclosed Porch: integer (nullable = true)\n",
      " |-- 3Ssn Porch: integer (nullable = true)\n",
      " |-- Screen Porch: integer (nullable = true)\n",
      " |-- Pool Area: integer (nullable = true)\n",
      " |-- Pool QC: string (nullable = true)\n",
      " |-- Fence: string (nullable = true)\n",
      " |-- Misc Feature: string (nullable = true)\n",
      " |-- Misc Val: integer (nullable = true)\n",
      " |-- Mo Sold: integer (nullable = true)\n",
      " |-- Yr Sold: integer (nullable = true)\n",
      " |-- Sale Type: string (nullable = true)\n",
      " |-- Sale Condition: string (nullable = true)\n",
      " |-- SalePrice: integer (nullable = true)\n",
      "\n"
     ]
    }
   ],
   "source": [
    "# Checking schema\n",
    "df_housing.printSchema()"
   ]
  },
  {
   "cell_type": "code",
   "execution_count": 27,
   "id": "9c1d2b9f-3612-41b8-bcdc-bb874f67d075",
   "metadata": {},
   "outputs": [
    {
     "data": {
      "text/plain": [
       "['Order',\n",
       " 'PID',\n",
       " 'MS SubClass',\n",
       " 'MS Zoning',\n",
       " 'Lot Frontage',\n",
       " 'Lot Area',\n",
       " 'Street',\n",
       " 'Alley',\n",
       " 'Lot Shape',\n",
       " 'Land Contour',\n",
       " 'Utilities',\n",
       " 'Lot Config',\n",
       " 'Land Slope',\n",
       " 'Neighborhood',\n",
       " 'Condition 1',\n",
       " 'Condition 2',\n",
       " 'Bldg Type',\n",
       " 'House Style',\n",
       " 'Overall Qual',\n",
       " 'Overall Cond',\n",
       " 'Year Built',\n",
       " 'Year Remod/Add',\n",
       " 'Roof Style',\n",
       " 'Roof Matl',\n",
       " 'Exterior 1st',\n",
       " 'Exterior 2nd',\n",
       " 'Mas Vnr Type',\n",
       " 'Mas Vnr Area',\n",
       " 'Exter Qual',\n",
       " 'Exter Cond',\n",
       " 'Foundation',\n",
       " 'Bsmt Qual',\n",
       " 'Bsmt Cond',\n",
       " 'Bsmt Exposure',\n",
       " 'BsmtFin Type 1',\n",
       " 'BsmtFin SF 1',\n",
       " 'BsmtFin Type 2',\n",
       " 'BsmtFin SF 2',\n",
       " 'Bsmt Unf SF',\n",
       " 'Total Bsmt SF',\n",
       " 'Heating',\n",
       " 'Heating QC',\n",
       " 'Central Air',\n",
       " 'Electrical',\n",
       " '1st Flr SF',\n",
       " '2nd Flr SF',\n",
       " 'Low Qual Fin SF',\n",
       " 'Gr Liv Area',\n",
       " 'Bsmt Full Bath',\n",
       " 'Bsmt Half Bath',\n",
       " 'Full Bath',\n",
       " 'Half Bath',\n",
       " 'Bedroom AbvGr',\n",
       " 'Kitchen AbvGr',\n",
       " 'Kitchen Qual',\n",
       " 'TotRms AbvGrd',\n",
       " 'Functional',\n",
       " 'Fireplaces',\n",
       " 'Fireplace Qu',\n",
       " 'Garage Type',\n",
       " 'Garage Yr Blt',\n",
       " 'Garage Finish',\n",
       " 'Garage Cars',\n",
       " 'Garage Area',\n",
       " 'Garage Qual',\n",
       " 'Garage Cond',\n",
       " 'Paved Drive',\n",
       " 'Wood Deck SF',\n",
       " 'Open Porch SF',\n",
       " 'Enclosed Porch',\n",
       " '3Ssn Porch',\n",
       " 'Screen Porch',\n",
       " 'Pool Area',\n",
       " 'Pool QC',\n",
       " 'Fence',\n",
       " 'Misc Feature',\n",
       " 'Misc Val',\n",
       " 'Mo Sold',\n",
       " 'Yr Sold',\n",
       " 'Sale Type',\n",
       " 'Sale Condition',\n",
       " 'SalePrice']"
      ]
     },
     "execution_count": 27,
     "metadata": {},
     "output_type": "execute_result"
    }
   ],
   "source": [
    "# Print column names\n",
    "df_housing.columns"
   ]
  },
  {
   "cell_type": "code",
   "execution_count": 29,
   "id": "a71c5fbf-79e6-4988-a88d-6df2f2288519",
   "metadata": {},
   "outputs": [
    {
     "ename": "AnalysisException",
     "evalue": "[UNRESOLVED_COLUMN.WITH_SUGGESTION] A column or function parameter with name `longitude` cannot be resolved. Did you mean one of the following? [`Mo Sold`, `Yr Sold`, `Alley`, `Bldg Type`, `Condition 1`].;\n'Project ['longitude, 'housing_median_age, 'total_rooms, 'total_bedroom, ']\n+- Relation [Order#17,PID#18,MS SubClass#19,MS Zoning#20,Lot Frontage#21,Lot Area#22,Street#23,Alley#24,Lot Shape#25,Land Contour#26,Utilities#27,Lot Config#28,Land Slope#29,Neighborhood#30,Condition 1#31,Condition 2#32,Bldg Type#33,House Style#34,Overall Qual#35,Overall Cond#36,Year Built#37,Year Remod/Add#38,Roof Style#39,Roof Matl#40,... 58 more fields] csv\n",
     "output_type": "error",
     "traceback": [
      "\u001b[1;31m---------------------------------------------------------------------------\u001b[0m",
      "\u001b[1;31mAnalysisException\u001b[0m                         Traceback (most recent call last)",
      "Cell \u001b[1;32mIn[29], line 2\u001b[0m\n\u001b[0;32m      1\u001b[0m \u001b[38;5;66;03m# Checking data entries for each column\u001b[39;00m\n\u001b[1;32m----> 2\u001b[0m df_housing\u001b[38;5;241m.\u001b[39mselect([\u001b[38;5;124m'\u001b[39m\u001b[38;5;124mlongitude\u001b[39m\u001b[38;5;124m'\u001b[39m, \u001b[38;5;124m'\u001b[39m\u001b[38;5;124mhousing_median_age\u001b[39m\u001b[38;5;124m'\u001b[39m, \u001b[38;5;124m'\u001b[39m\u001b[38;5;124mtotal_rooms\u001b[39m\u001b[38;5;124m'\u001b[39m, \u001b[38;5;124m'\u001b[39m\u001b[38;5;124mtotal_bedroom\u001b[39m\u001b[38;5;124m'\u001b[39m, \u001b[38;5;124m'\u001b[39m\u001b[38;5;124m'\u001b[39m])\u001b[38;5;241m.\u001b[39mdescribe()\u001b[38;5;241m.\u001b[39mshow()\n",
      "File \u001b[1;32m~\\anaconda3\\Lib\\site-packages\\pyspark\\sql\\dataframe.py:3229\u001b[0m, in \u001b[0;36mDataFrame.select\u001b[1;34m(self, *cols)\u001b[0m\n\u001b[0;32m   3184\u001b[0m \u001b[38;5;28;01mdef\u001b[39;00m \u001b[38;5;21mselect\u001b[39m(\u001b[38;5;28mself\u001b[39m, \u001b[38;5;241m*\u001b[39mcols: \u001b[38;5;124m\"\u001b[39m\u001b[38;5;124mColumnOrName\u001b[39m\u001b[38;5;124m\"\u001b[39m) \u001b[38;5;241m-\u001b[39m\u001b[38;5;241m>\u001b[39m \u001b[38;5;124m\"\u001b[39m\u001b[38;5;124mDataFrame\u001b[39m\u001b[38;5;124m\"\u001b[39m:  \u001b[38;5;66;03m# type: ignore[misc]\u001b[39;00m\n\u001b[0;32m   3185\u001b[0m \u001b[38;5;250m    \u001b[39m\u001b[38;5;124;03m\"\"\"Projects a set of expressions and returns a new :class:`DataFrame`.\u001b[39;00m\n\u001b[0;32m   3186\u001b[0m \n\u001b[0;32m   3187\u001b[0m \u001b[38;5;124;03m    .. versionadded:: 1.3.0\u001b[39;00m\n\u001b[1;32m   (...)\u001b[0m\n\u001b[0;32m   3227\u001b[0m \u001b[38;5;124;03m    +-----+---+\u001b[39;00m\n\u001b[0;32m   3228\u001b[0m \u001b[38;5;124;03m    \"\"\"\u001b[39;00m\n\u001b[1;32m-> 3229\u001b[0m     jdf \u001b[38;5;241m=\u001b[39m \u001b[38;5;28mself\u001b[39m\u001b[38;5;241m.\u001b[39m_jdf\u001b[38;5;241m.\u001b[39mselect(\u001b[38;5;28mself\u001b[39m\u001b[38;5;241m.\u001b[39m_jcols(\u001b[38;5;241m*\u001b[39mcols))\n\u001b[0;32m   3230\u001b[0m     \u001b[38;5;28;01mreturn\u001b[39;00m DataFrame(jdf, \u001b[38;5;28mself\u001b[39m\u001b[38;5;241m.\u001b[39msparkSession)\n",
      "File \u001b[1;32m~\\anaconda3\\Lib\\site-packages\\py4j\\java_gateway.py:1322\u001b[0m, in \u001b[0;36mJavaMember.__call__\u001b[1;34m(self, *args)\u001b[0m\n\u001b[0;32m   1316\u001b[0m command \u001b[38;5;241m=\u001b[39m proto\u001b[38;5;241m.\u001b[39mCALL_COMMAND_NAME \u001b[38;5;241m+\u001b[39m\\\n\u001b[0;32m   1317\u001b[0m     \u001b[38;5;28mself\u001b[39m\u001b[38;5;241m.\u001b[39mcommand_header \u001b[38;5;241m+\u001b[39m\\\n\u001b[0;32m   1318\u001b[0m     args_command \u001b[38;5;241m+\u001b[39m\\\n\u001b[0;32m   1319\u001b[0m     proto\u001b[38;5;241m.\u001b[39mEND_COMMAND_PART\n\u001b[0;32m   1321\u001b[0m answer \u001b[38;5;241m=\u001b[39m \u001b[38;5;28mself\u001b[39m\u001b[38;5;241m.\u001b[39mgateway_client\u001b[38;5;241m.\u001b[39msend_command(command)\n\u001b[1;32m-> 1322\u001b[0m return_value \u001b[38;5;241m=\u001b[39m get_return_value(\n\u001b[0;32m   1323\u001b[0m     answer, \u001b[38;5;28mself\u001b[39m\u001b[38;5;241m.\u001b[39mgateway_client, \u001b[38;5;28mself\u001b[39m\u001b[38;5;241m.\u001b[39mtarget_id, \u001b[38;5;28mself\u001b[39m\u001b[38;5;241m.\u001b[39mname)\n\u001b[0;32m   1325\u001b[0m \u001b[38;5;28;01mfor\u001b[39;00m temp_arg \u001b[38;5;129;01min\u001b[39;00m temp_args:\n\u001b[0;32m   1326\u001b[0m     \u001b[38;5;28;01mif\u001b[39;00m \u001b[38;5;28mhasattr\u001b[39m(temp_arg, \u001b[38;5;124m\"\u001b[39m\u001b[38;5;124m_detach\u001b[39m\u001b[38;5;124m\"\u001b[39m):\n",
      "File \u001b[1;32m~\\anaconda3\\Lib\\site-packages\\pyspark\\errors\\exceptions\\captured.py:185\u001b[0m, in \u001b[0;36mcapture_sql_exception.<locals>.deco\u001b[1;34m(*a, **kw)\u001b[0m\n\u001b[0;32m    181\u001b[0m converted \u001b[38;5;241m=\u001b[39m convert_exception(e\u001b[38;5;241m.\u001b[39mjava_exception)\n\u001b[0;32m    182\u001b[0m \u001b[38;5;28;01mif\u001b[39;00m \u001b[38;5;129;01mnot\u001b[39;00m \u001b[38;5;28misinstance\u001b[39m(converted, UnknownException):\n\u001b[0;32m    183\u001b[0m     \u001b[38;5;66;03m# Hide where the exception came from that shows a non-Pythonic\u001b[39;00m\n\u001b[0;32m    184\u001b[0m     \u001b[38;5;66;03m# JVM exception message.\u001b[39;00m\n\u001b[1;32m--> 185\u001b[0m     \u001b[38;5;28;01mraise\u001b[39;00m converted \u001b[38;5;28;01mfrom\u001b[39;00m \u001b[38;5;28;01mNone\u001b[39;00m\n\u001b[0;32m    186\u001b[0m \u001b[38;5;28;01melse\u001b[39;00m:\n\u001b[0;32m    187\u001b[0m     \u001b[38;5;28;01mraise\u001b[39;00m\n",
      "\u001b[1;31mAnalysisException\u001b[0m: [UNRESOLVED_COLUMN.WITH_SUGGESTION] A column or function parameter with name `longitude` cannot be resolved. Did you mean one of the following? [`Mo Sold`, `Yr Sold`, `Alley`, `Bldg Type`, `Condition 1`].;\n'Project ['longitude, 'housing_median_age, 'total_rooms, 'total_bedroom, ']\n+- Relation [Order#17,PID#18,MS SubClass#19,MS Zoning#20,Lot Frontage#21,Lot Area#22,Street#23,Alley#24,Lot Shape#25,Land Contour#26,Utilities#27,Lot Config#28,Land Slope#29,Neighborhood#30,Condition 1#31,Condition 2#32,Bldg Type#33,House Style#34,Overall Qual#35,Overall Cond#36,Year Built#37,Year Remod/Add#38,Roof Style#39,Roof Matl#40,... 58 more fields] csv\n"
     ]
    }
   ],
   "source": [
    "# Checking data entries for each column\n",
    "df_housing.select(['longitude', 'housing_median_age', 'total_rooms', 'total_bedroom', '']).describe().show()"
   ]
  },
  {
   "cell_type": "code",
   "execution_count": null,
   "id": "006cee63-225b-4178-8819-f129fb72adcf",
   "metadata": {},
   "outputs": [],
   "source": []
  },
  {
   "cell_type": "code",
   "execution_count": null,
   "id": "05470910-626f-4598-ad53-856fc391b0ba",
   "metadata": {},
   "outputs": [],
   "source": []
  }
 ],
 "metadata": {
  "kernelspec": {
   "display_name": "Python [conda env:base] *",
   "language": "python",
   "name": "conda-base-py"
  },
  "language_info": {
   "codemirror_mode": {
    "name": "ipython",
    "version": 3
   },
   "file_extension": ".py",
   "mimetype": "text/x-python",
   "name": "python",
   "nbconvert_exporter": "python",
   "pygments_lexer": "ipython3",
   "version": "3.12.7"
  }
 },
 "nbformat": 4,
 "nbformat_minor": 5
}
