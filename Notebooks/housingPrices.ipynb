{
 "cells": [
  {
   "cell_type": "code",
   "execution_count": 1,
   "id": "5541e0e8-0a71-458e-ab83-608c74e4e7f3",
   "metadata": {},
   "outputs": [
    {
     "name": "stdout",
     "output_type": "stream",
     "text": [
      "Requirement already satisfied: pyspark in c:\\users\\washi\\anaconda3\\lib\\site-packages (3.5.5)\n",
      "Requirement already satisfied: py4j==0.10.9.7 in c:\\users\\washi\\anaconda3\\lib\\site-packages (from pyspark) (0.10.9.7)\n"
     ]
    }
   ],
   "source": [
    "!pip install pyspark"
   ]
  },
  {
   "cell_type": "code",
   "execution_count": 11,
   "id": "ab930cc1-d9a4-4340-bd3a-35f943bb0647",
   "metadata": {},
   "outputs": [],
   "source": [
    "# Data manipulation and Graphing\n",
    "import numpy as np # Linear algebra\n",
    "import pandas as pd #data processing, CSV file I/O\n",
    "import os # Interact with OS file system\n",
    "import seaborn as sns # Making graphs and visualising data\n",
    "\n",
    "# Basic Setup\n",
    "from pyspark import SparkConf, SparkContext #\n",
    "from pyspark.sql import SparkSession, SQLContext # Working with DataFrames\n",
    "\n",
    "# Spark Tools\n",
    "from pyspark.sql.types import * # Schema tools for DataFrames\n",
    "import pyspark.sql.functions as F # \n",
    "from pyspark.sql.functions import udf, col\n",
    "\n",
    "from pyspark.ml.regression import LinearRegression # Linear regression model\n",
    "from pyspark.mllib.evaluation import RegressionMetrics # Model evaluation metrics\n",
    "\n",
    "from pyspark.ml.tuning import ParamGridBuilder, CrossValidator, CrossValidatorModel # Hyperparameter tuning\n",
    "from pyspark.ml.feature import VectorAssembler, StandardScaler # Prepare features for machine learning\n",
    "from pyspark.ml.evaluation import RegressionEvaluator # Evaluation"
   ]
  },
  {
   "cell_type": "code",
   "execution_count": 22,
   "id": "42820ce3-aee2-45ef-934e-e27b49d79134",
   "metadata": {},
   "outputs": [
    {
     "name": "stdout",
     "output_type": "stream",
     "text": [
      "C:\\Users\\washi\\Downloads\\archive\\AmesHousing.csv\n"
     ]
    }
   ],
   "source": [
    "import os\n",
    "# Find data set in file system\n",
    "for dirname, _, filenames in os.walk(r'C:\\Users\\washi\\Downloads\\archive'):\n",
    "    for filename in filenames:\n",
    "        print(os.path.join(dirname, filename))"
   ]
  },
  {
   "cell_type": "code",
   "execution_count": 27,
   "id": "cdd2e8ad-ea39-4ef0-9b6b-8c00675e8e42",
   "metadata": {},
   "outputs": [],
   "source": [
    "from pyspark.sql import SparkSession"
   ]
  },
  {
   "cell_type": "code",
   "execution_count": 31,
   "id": "e1eb10ce-059f-4f4d-8296-69d570099c61",
   "metadata": {},
   "outputs": [],
   "source": [
    "# Create a spark session\n",
    "spark = SparkSession.builder.appName('Dataframe').getOrCreate()"
   ]
  },
  {
   "cell_type": "code",
   "execution_count": 51,
   "id": "92f95ee2-1f2c-44d5-8ec7-cc25909f2dc9",
   "metadata": {},
   "outputs": [],
   "source": [
    "# Read over dataset\n",
    "df_housing = spark.read.option('header', 'true').csv(os.path.join(dirname, 'AmesHousing.csv'), inferSchema = True)"
   ]
  },
  {
   "cell_type": "code",
   "execution_count": 55,
   "id": "66aa45e4-98ab-4cfd-85cc-7807d21bd9b6",
   "metadata": {},
   "outputs": [
    {
     "data": {
      "text/plain": [
       "[Row(Order=1, PID=526301100, MS SubClass=20, MS Zoning='RL', Lot Frontage=141, Lot Area=31770, Street='Pave', Alley='NA', Lot Shape='IR1', Land Contour='Lvl', Utilities='AllPub', Lot Config='Corner', Land Slope='Gtl', Neighborhood='NAmes', Condition 1='Norm', Condition 2='Norm', Bldg Type='1Fam', House Style='1Story', Overall Qual=6, Overall Cond=5, Year Built=1960, Year Remod/Add=1960, Roof Style='Hip', Roof Matl='CompShg', Exterior 1st='BrkFace', Exterior 2nd='Plywood', Mas Vnr Type='Stone', Mas Vnr Area=112, Exter Qual='TA', Exter Cond='TA', Foundation='CBlock', Bsmt Qual='TA', Bsmt Cond='Gd', Bsmt Exposure='Gd', BsmtFin Type 1='BLQ', BsmtFin SF 1=639, BsmtFin Type 2='Unf', BsmtFin SF 2=0, Bsmt Unf SF=441, Total Bsmt SF=1080, Heating='GasA', Heating QC='Fa', Central Air='Y', Electrical='SBrkr', 1st Flr SF=1656, 2nd Flr SF=0, Low Qual Fin SF=0, Gr Liv Area=1656, Bsmt Full Bath=1, Bsmt Half Bath=0, Full Bath=1, Half Bath=0, Bedroom AbvGr=3, Kitchen AbvGr=1, Kitchen Qual='TA', TotRms AbvGrd=7, Functional='Typ', Fireplaces=2, Fireplace Qu='Gd', Garage Type='Attchd', Garage Yr Blt=1960, Garage Finish='Fin', Garage Cars=2, Garage Area=528, Garage Qual='TA', Garage Cond='TA', Paved Drive='P', Wood Deck SF=210, Open Porch SF=62, Enclosed Porch=0, 3Ssn Porch=0, Screen Porch=0, Pool Area=0, Pool QC='NA', Fence='NA', Misc Feature='NA', Misc Val=0, Mo Sold=5, Yr Sold=2010, Sale Type='WD ', Sale Condition='Normal', SalePrice=215000),\n",
       " Row(Order=2, PID=526350040, MS SubClass=20, MS Zoning='RH', Lot Frontage=80, Lot Area=11622, Street='Pave', Alley='NA', Lot Shape='Reg', Land Contour='Lvl', Utilities='AllPub', Lot Config='Inside', Land Slope='Gtl', Neighborhood='NAmes', Condition 1='Feedr', Condition 2='Norm', Bldg Type='1Fam', House Style='1Story', Overall Qual=5, Overall Cond=6, Year Built=1961, Year Remod/Add=1961, Roof Style='Gable', Roof Matl='CompShg', Exterior 1st='VinylSd', Exterior 2nd='VinylSd', Mas Vnr Type='None', Mas Vnr Area=0, Exter Qual='TA', Exter Cond='TA', Foundation='CBlock', Bsmt Qual='TA', Bsmt Cond='TA', Bsmt Exposure='No', BsmtFin Type 1='Rec', BsmtFin SF 1=468, BsmtFin Type 2='LwQ', BsmtFin SF 2=144, Bsmt Unf SF=270, Total Bsmt SF=882, Heating='GasA', Heating QC='TA', Central Air='Y', Electrical='SBrkr', 1st Flr SF=896, 2nd Flr SF=0, Low Qual Fin SF=0, Gr Liv Area=896, Bsmt Full Bath=0, Bsmt Half Bath=0, Full Bath=1, Half Bath=0, Bedroom AbvGr=2, Kitchen AbvGr=1, Kitchen Qual='TA', TotRms AbvGrd=5, Functional='Typ', Fireplaces=0, Fireplace Qu='NA', Garage Type='Attchd', Garage Yr Blt=1961, Garage Finish='Unf', Garage Cars=1, Garage Area=730, Garage Qual='TA', Garage Cond='TA', Paved Drive='Y', Wood Deck SF=140, Open Porch SF=0, Enclosed Porch=0, 3Ssn Porch=0, Screen Porch=120, Pool Area=0, Pool QC='NA', Fence='MnPrv', Misc Feature='NA', Misc Val=0, Mo Sold=6, Yr Sold=2010, Sale Type='WD ', Sale Condition='Normal', SalePrice=105000),\n",
       " Row(Order=3, PID=526351010, MS SubClass=20, MS Zoning='RL', Lot Frontage=81, Lot Area=14267, Street='Pave', Alley='NA', Lot Shape='IR1', Land Contour='Lvl', Utilities='AllPub', Lot Config='Corner', Land Slope='Gtl', Neighborhood='NAmes', Condition 1='Norm', Condition 2='Norm', Bldg Type='1Fam', House Style='1Story', Overall Qual=6, Overall Cond=6, Year Built=1958, Year Remod/Add=1958, Roof Style='Hip', Roof Matl='CompShg', Exterior 1st='Wd Sdng', Exterior 2nd='Wd Sdng', Mas Vnr Type='BrkFace', Mas Vnr Area=108, Exter Qual='TA', Exter Cond='TA', Foundation='CBlock', Bsmt Qual='TA', Bsmt Cond='TA', Bsmt Exposure='No', BsmtFin Type 1='ALQ', BsmtFin SF 1=923, BsmtFin Type 2='Unf', BsmtFin SF 2=0, Bsmt Unf SF=406, Total Bsmt SF=1329, Heating='GasA', Heating QC='TA', Central Air='Y', Electrical='SBrkr', 1st Flr SF=1329, 2nd Flr SF=0, Low Qual Fin SF=0, Gr Liv Area=1329, Bsmt Full Bath=0, Bsmt Half Bath=0, Full Bath=1, Half Bath=1, Bedroom AbvGr=3, Kitchen AbvGr=1, Kitchen Qual='Gd', TotRms AbvGrd=6, Functional='Typ', Fireplaces=0, Fireplace Qu='NA', Garage Type='Attchd', Garage Yr Blt=1958, Garage Finish='Unf', Garage Cars=1, Garage Area=312, Garage Qual='TA', Garage Cond='TA', Paved Drive='Y', Wood Deck SF=393, Open Porch SF=36, Enclosed Porch=0, 3Ssn Porch=0, Screen Porch=0, Pool Area=0, Pool QC='NA', Fence='NA', Misc Feature='Gar2', Misc Val=12500, Mo Sold=6, Yr Sold=2010, Sale Type='WD ', Sale Condition='Normal', SalePrice=172000)]"
      ]
     },
     "execution_count": 55,
     "metadata": {},
     "output_type": "execute_result"
    }
   ],
   "source": [
    "# Show the first 3 rows\n",
    "df_housing.head(3)"
   ]
  },
  {
   "cell_type": "code",
   "execution_count": 59,
   "id": "ef78f660-3501-4115-a565-0ffd76e11dd1",
   "metadata": {},
   "outputs": [
    {
     "name": "stdout",
     "output_type": "stream",
     "text": [
      "root\n",
      " |-- Order: integer (nullable = true)\n",
      " |-- PID: integer (nullable = true)\n",
      " |-- MS SubClass: integer (nullable = true)\n",
      " |-- MS Zoning: string (nullable = true)\n",
      " |-- Lot Frontage: integer (nullable = true)\n",
      " |-- Lot Area: integer (nullable = true)\n",
      " |-- Street: string (nullable = true)\n",
      " |-- Alley: string (nullable = true)\n",
      " |-- Lot Shape: string (nullable = true)\n",
      " |-- Land Contour: string (nullable = true)\n",
      " |-- Utilities: string (nullable = true)\n",
      " |-- Lot Config: string (nullable = true)\n",
      " |-- Land Slope: string (nullable = true)\n",
      " |-- Neighborhood: string (nullable = true)\n",
      " |-- Condition 1: string (nullable = true)\n",
      " |-- Condition 2: string (nullable = true)\n",
      " |-- Bldg Type: string (nullable = true)\n",
      " |-- House Style: string (nullable = true)\n",
      " |-- Overall Qual: integer (nullable = true)\n",
      " |-- Overall Cond: integer (nullable = true)\n",
      " |-- Year Built: integer (nullable = true)\n",
      " |-- Year Remod/Add: integer (nullable = true)\n",
      " |-- Roof Style: string (nullable = true)\n",
      " |-- Roof Matl: string (nullable = true)\n",
      " |-- Exterior 1st: string (nullable = true)\n",
      " |-- Exterior 2nd: string (nullable = true)\n",
      " |-- Mas Vnr Type: string (nullable = true)\n",
      " |-- Mas Vnr Area: integer (nullable = true)\n",
      " |-- Exter Qual: string (nullable = true)\n",
      " |-- Exter Cond: string (nullable = true)\n",
      " |-- Foundation: string (nullable = true)\n",
      " |-- Bsmt Qual: string (nullable = true)\n",
      " |-- Bsmt Cond: string (nullable = true)\n",
      " |-- Bsmt Exposure: string (nullable = true)\n",
      " |-- BsmtFin Type 1: string (nullable = true)\n",
      " |-- BsmtFin SF 1: integer (nullable = true)\n",
      " |-- BsmtFin Type 2: string (nullable = true)\n",
      " |-- BsmtFin SF 2: integer (nullable = true)\n",
      " |-- Bsmt Unf SF: integer (nullable = true)\n",
      " |-- Total Bsmt SF: integer (nullable = true)\n",
      " |-- Heating: string (nullable = true)\n",
      " |-- Heating QC: string (nullable = true)\n",
      " |-- Central Air: string (nullable = true)\n",
      " |-- Electrical: string (nullable = true)\n",
      " |-- 1st Flr SF: integer (nullable = true)\n",
      " |-- 2nd Flr SF: integer (nullable = true)\n",
      " |-- Low Qual Fin SF: integer (nullable = true)\n",
      " |-- Gr Liv Area: integer (nullable = true)\n",
      " |-- Bsmt Full Bath: integer (nullable = true)\n",
      " |-- Bsmt Half Bath: integer (nullable = true)\n",
      " |-- Full Bath: integer (nullable = true)\n",
      " |-- Half Bath: integer (nullable = true)\n",
      " |-- Bedroom AbvGr: integer (nullable = true)\n",
      " |-- Kitchen AbvGr: integer (nullable = true)\n",
      " |-- Kitchen Qual: string (nullable = true)\n",
      " |-- TotRms AbvGrd: integer (nullable = true)\n",
      " |-- Functional: string (nullable = true)\n",
      " |-- Fireplaces: integer (nullable = true)\n",
      " |-- Fireplace Qu: string (nullable = true)\n",
      " |-- Garage Type: string (nullable = true)\n",
      " |-- Garage Yr Blt: integer (nullable = true)\n",
      " |-- Garage Finish: string (nullable = true)\n",
      " |-- Garage Cars: integer (nullable = true)\n",
      " |-- Garage Area: integer (nullable = true)\n",
      " |-- Garage Qual: string (nullable = true)\n",
      " |-- Garage Cond: string (nullable = true)\n",
      " |-- Paved Drive: string (nullable = true)\n",
      " |-- Wood Deck SF: integer (nullable = true)\n",
      " |-- Open Porch SF: integer (nullable = true)\n",
      " |-- Enclosed Porch: integer (nullable = true)\n",
      " |-- 3Ssn Porch: integer (nullable = true)\n",
      " |-- Screen Porch: integer (nullable = true)\n",
      " |-- Pool Area: integer (nullable = true)\n",
      " |-- Pool QC: string (nullable = true)\n",
      " |-- Fence: string (nullable = true)\n",
      " |-- Misc Feature: string (nullable = true)\n",
      " |-- Misc Val: integer (nullable = true)\n",
      " |-- Mo Sold: integer (nullable = true)\n",
      " |-- Yr Sold: integer (nullable = true)\n",
      " |-- Sale Type: string (nullable = true)\n",
      " |-- Sale Condition: string (nullable = true)\n",
      " |-- SalePrice: integer (nullable = true)\n",
      "\n"
     ]
    }
   ],
   "source": [
    "# Checking schema\n",
    "df_housing.printSchema()"
   ]
  },
  {
   "cell_type": "code",
   "execution_count": null,
   "id": "9c1d2b9f-3612-41b8-bcdc-bb874f67d075",
   "metadata": {},
   "outputs": [],
   "source": []
  }
 ],
 "metadata": {
  "kernelspec": {
   "display_name": "Python [conda env:base] *",
   "language": "python",
   "name": "conda-base-py"
  },
  "language_info": {
   "codemirror_mode": {
    "name": "ipython",
    "version": 3
   },
   "file_extension": ".py",
   "mimetype": "text/x-python",
   "name": "python",
   "nbconvert_exporter": "python",
   "pygments_lexer": "ipython3",
   "version": "3.12.7"
  }
 },
 "nbformat": 4,
 "nbformat_minor": 5
}
